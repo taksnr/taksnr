{
  "nbformat": 4,
  "nbformat_minor": 0,
  "metadata": {
    "colab": {
      "provenance": [],
      "include_colab_link": true
    },
    "kernelspec": {
      "name": "python3",
      "display_name": "Python 3"
    }
  },
  "cells": [
    {
      "cell_type": "markdown",
      "metadata": {
        "id": "view-in-github",
        "colab_type": "text"
      },
      "source": [
        "<a href=\"https://colab.research.google.com/github/taksnr/taksnr/blob/main/week2_%E5%AE%BF%E9%A1%8C_230324%E6%9B%B4%E6%96%B0.ipynb\" target=\"_parent\"><img src=\"https://colab.research.google.com/assets/colab-badge.svg\" alt=\"Open In Colab\"/></a>"
      ]
    },
    {
      "cell_type": "markdown",
      "metadata": {
        "id": "93cl9JWr_5nm"
      },
      "source": [
        "## 問題文\n",
        "任意の$n\\times n$正方行列$A$をインプットデータとして、そのL2ノルムを返り値とする関数を作成してください。\n",
        "\n",
        "例えば、行列\n",
        "$$\n",
        "A=\n",
        "\\begin{pmatrix}\n",
        "  3 & 2 & 1 \\\\\n",
        "  5 & 3 & 7 \\\\\n",
        "  1 & 1 & 1\n",
        "\\end{pmatrix}$$\n",
        "は、次のようにnumpyの配列として扱います。\n",
        "\n",
        "```python\n",
        "A = np.array([[3,2,1],[5,3,7],[1,1,1]])\n",
        "```\n",
        "\n",
        "提出するときは、以下の点に注意してください。  \n",
        ">- 以下の関数`homework`の`!!WRITE ME!!`に処理を書いてください。(**「`!!WRITE ME!!`」は消して、記入してください。**)\n",
        ">- 実際の提出は記述された`homework`関数全てになり、**提出はOmnicampus内の宿題の欄から今週の課題を選択後、提出内容に関数を貼り付けてから[Pythonコード提出]を押してください。**\n",
        ">- 返り値は数値型です。\n",
        ">- 関数は1つにまとめてください。"
      ]
    },
    {
      "cell_type": "code",
      "metadata": {
        "id": "thHL7HyXBXvS"
      },
      "source": [
        "# インポート\n",
        "import numpy as np\n",
        "import numpy.linalg as linalg\n",
        "\n",
        "# !!WRITE ME!!に処理を記入する（関数を提出することに注意）\n",
        "def homework(A):\n",
        "  my_result = np.linalg.norm(A)\n",
        "  return my_result"
      ],
      "execution_count": 7,
      "outputs": []
    },
    {
      "cell_type": "code",
      "source": [],
      "metadata": {
        "id": "MPXCIqKGDPHJ"
      },
      "execution_count": 5,
      "outputs": []
    }
  ]
}